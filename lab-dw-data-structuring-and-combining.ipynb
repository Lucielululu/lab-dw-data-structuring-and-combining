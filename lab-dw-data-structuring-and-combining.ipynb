{
 "cells": [
  {
   "cell_type": "markdown",
   "id": "25d7736c-ba17-4aff-b6bb-66eba20fbf4e",
   "metadata": {
    "id": "25d7736c-ba17-4aff-b6bb-66eba20fbf4e"
   },
   "source": [
    "# Lab | Data Structuring and Combining Data"
   ]
  },
  {
   "cell_type": "markdown",
   "id": "a2cdfc70-44c8-478c-81e7-2bc43fdf4986",
   "metadata": {
    "id": "a2cdfc70-44c8-478c-81e7-2bc43fdf4986"
   },
   "source": [
    "## Challenge 1: Combining & Cleaning Data\n",
    "\n",
    "In this challenge, we will be working with the customer data from an insurance company, as we did in the two previous labs. The data can be found here:\n",
    "- https://raw.githubusercontent.com/data-bootcamp-v4/data/main/file1.csv\n",
    "\n",
    "But this time, we got new data, which can be found in the following 2 CSV files located at the links below.\n",
    "\n",
    "- https://raw.githubusercontent.com/data-bootcamp-v4/data/main/file2.csv\n",
    "- https://raw.githubusercontent.com/data-bootcamp-v4/data/main/file3.csv\n",
    "\n",
    "Note that you'll need to clean and format the new data.\n",
    "\n",
    "Observation:\n",
    "- One option is to first combine the three datasets and then apply the cleaning function to the new combined dataset\n",
    "- Another option would be to read the clean file you saved in the previous lab, and just clean the two new files and concatenate the three clean datasets"
   ]
  },
  {
   "cell_type": "code",
   "execution_count": 5,
   "id": "492d06e3-92c7-4105-ac72-536db98d3244",
   "metadata": {
    "id": "492d06e3-92c7-4105-ac72-536db98d3244"
   },
   "outputs": [
    {
     "data": {
      "text/plain": [
       "(4008, 11)"
      ]
     },
     "execution_count": 5,
     "metadata": {},
     "output_type": "execute_result"
    }
   ],
   "source": [
    "# import data\n",
    "# how to import 3 files at the same time?\n",
    "import pandas as pd\n",
    "url = 'https://raw.githubusercontent.com/data-bootcamp-v4/data/main/file1.csv'\n",
    "insurance_1 = pd.read_csv(url)\n",
    "insurance_1.shape"
   ]
  },
  {
   "cell_type": "code",
   "execution_count": 6,
   "id": "93eba3e9-6933-4945-a520-d128943535ab",
   "metadata": {},
   "outputs": [
    {
     "data": {
      "text/plain": [
       "(996, 11)"
      ]
     },
     "execution_count": 6,
     "metadata": {},
     "output_type": "execute_result"
    }
   ],
   "source": [
    "import pandas as pd\n",
    "url = 'https://raw.githubusercontent.com/data-bootcamp-v4/data/main/file2.csv'\n",
    "insurance_2 = pd.read_csv(url)\n",
    "insurance_2.shape"
   ]
  },
  {
   "cell_type": "code",
   "execution_count": 7,
   "id": "0a4cd069-cda2-4661-a40d-a75e19d7acf1",
   "metadata": {},
   "outputs": [
    {
     "data": {
      "text/plain": [
       "(7070, 11)"
      ]
     },
     "execution_count": 7,
     "metadata": {},
     "output_type": "execute_result"
    }
   ],
   "source": [
    "import pandas as pd\n",
    "url = 'https://raw.githubusercontent.com/data-bootcamp-v4/data/main/file3.csv'\n",
    "insurance_3 = pd.read_csv(url)\n",
    "insurance_3.shape"
   ]
  },
  {
   "cell_type": "code",
   "execution_count": 8,
   "id": "94f444f5-26bd-40aa-b2b1-62cc29394da2",
   "metadata": {},
   "outputs": [
    {
     "data": {
      "application/vnd.microsoft.datawrangler.viewer.v0+json": {
       "columns": [
        {
         "name": "index",
         "rawType": "int64",
         "type": "integer"
        },
        {
         "name": "customer",
         "rawType": "object",
         "type": "string"
        },
        {
         "name": "state",
         "rawType": "object",
         "type": "string"
        },
        {
         "name": "gender",
         "rawType": "object",
         "type": "unknown"
        },
        {
         "name": "education",
         "rawType": "object",
         "type": "string"
        },
        {
         "name": "customer_lifetime_value",
         "rawType": "object",
         "type": "unknown"
        },
        {
         "name": "income",
         "rawType": "float64",
         "type": "float"
        },
        {
         "name": "monthly_premium_auto",
         "rawType": "float64",
         "type": "float"
        },
        {
         "name": "number_of_open_complaints",
         "rawType": "object",
         "type": "string"
        },
        {
         "name": "policy_type",
         "rawType": "object",
         "type": "string"
        },
        {
         "name": "vehicle_class",
         "rawType": "object",
         "type": "string"
        },
        {
         "name": "total_claim_amount",
         "rawType": "float64",
         "type": "float"
        }
       ],
       "conversionMethod": "pd.DataFrame",
       "ref": "a98fbbf0-ace3-4901-84a0-21ac87ba6b69",
       "rows": [
        [
         "0",
         "RB50392",
         "Washington",
         null,
         "Master",
         null,
         "0.0",
         "1000.0",
         "1/0/00",
         "Personal Auto",
         "Four-Door Car",
         "2.704934"
        ]
       ],
       "shape": {
        "columns": 11,
        "rows": 1
       }
      },
      "text/html": [
       "<div>\n",
       "<style scoped>\n",
       "    .dataframe tbody tr th:only-of-type {\n",
       "        vertical-align: middle;\n",
       "    }\n",
       "\n",
       "    .dataframe tbody tr th {\n",
       "        vertical-align: top;\n",
       "    }\n",
       "\n",
       "    .dataframe thead th {\n",
       "        text-align: right;\n",
       "    }\n",
       "</style>\n",
       "<table border=\"1\" class=\"dataframe\">\n",
       "  <thead>\n",
       "    <tr style=\"text-align: right;\">\n",
       "      <th></th>\n",
       "      <th>customer</th>\n",
       "      <th>state</th>\n",
       "      <th>gender</th>\n",
       "      <th>education</th>\n",
       "      <th>customer_lifetime_value</th>\n",
       "      <th>income</th>\n",
       "      <th>monthly_premium_auto</th>\n",
       "      <th>number_of_open_complaints</th>\n",
       "      <th>policy_type</th>\n",
       "      <th>vehicle_class</th>\n",
       "      <th>total_claim_amount</th>\n",
       "    </tr>\n",
       "  </thead>\n",
       "  <tbody>\n",
       "    <tr>\n",
       "      <th>0</th>\n",
       "      <td>RB50392</td>\n",
       "      <td>Washington</td>\n",
       "      <td>NaN</td>\n",
       "      <td>Master</td>\n",
       "      <td>NaN</td>\n",
       "      <td>0.0</td>\n",
       "      <td>1000.0</td>\n",
       "      <td>1/0/00</td>\n",
       "      <td>Personal Auto</td>\n",
       "      <td>Four-Door Car</td>\n",
       "      <td>2.704934</td>\n",
       "    </tr>\n",
       "  </tbody>\n",
       "</table>\n",
       "</div>"
      ],
      "text/plain": [
       "  customer       state gender education customer_lifetime_value  income  \\\n",
       "0  RB50392  Washington    NaN    Master                     NaN     0.0   \n",
       "\n",
       "   monthly_premium_auto number_of_open_complaints    policy_type  \\\n",
       "0                1000.0                    1/0/00  Personal Auto   \n",
       "\n",
       "   vehicle_class  total_claim_amount  \n",
       "0  Four-Door Car            2.704934  "
      ]
     },
     "execution_count": 8,
     "metadata": {},
     "output_type": "execute_result"
    }
   ],
   "source": [
    "insurance_1.columns = insurance_1.columns.str.replace(\" \",\"_\").str.lower() \n",
    "insurance_1 = insurance_1.rename(columns = {\"st\" :\"state\"})\n",
    "insurance_1.head(1)"
   ]
  },
  {
   "cell_type": "code",
   "execution_count": 9,
   "id": "740ecb4a-1cdd-40e4-a882-9fd9b491a8fb",
   "metadata": {},
   "outputs": [
    {
     "data": {
      "application/vnd.microsoft.datawrangler.viewer.v0+json": {
       "columns": [
        {
         "name": "index",
         "rawType": "int64",
         "type": "integer"
        },
        {
         "name": "customer",
         "rawType": "object",
         "type": "string"
        },
        {
         "name": "state",
         "rawType": "object",
         "type": "string"
        },
        {
         "name": "gender",
         "rawType": "object",
         "type": "string"
        },
        {
         "name": "education",
         "rawType": "object",
         "type": "string"
        },
        {
         "name": "customer_lifetime_value",
         "rawType": "object",
         "type": "string"
        },
        {
         "name": "income",
         "rawType": "int64",
         "type": "integer"
        },
        {
         "name": "monthly_premium_auto",
         "rawType": "int64",
         "type": "integer"
        },
        {
         "name": "number_of_open_complaints",
         "rawType": "object",
         "type": "string"
        },
        {
         "name": "total_claim_amount",
         "rawType": "float64",
         "type": "float"
        },
        {
         "name": "policy_type",
         "rawType": "object",
         "type": "string"
        },
        {
         "name": "vehicle_class",
         "rawType": "object",
         "type": "string"
        }
       ],
       "conversionMethod": "pd.DataFrame",
       "ref": "88761847-727c-45da-b538-881ef56d17d0",
       "rows": [
        [
         "0",
         "GS98873",
         "Arizona",
         "F",
         "Bachelor",
         "323912.47%",
         "16061",
         "88",
         "1/0/00",
         "633.6",
         "Personal Auto",
         "Four-Door Car"
        ]
       ],
       "shape": {
        "columns": 11,
        "rows": 1
       }
      },
      "text/html": [
       "<div>\n",
       "<style scoped>\n",
       "    .dataframe tbody tr th:only-of-type {\n",
       "        vertical-align: middle;\n",
       "    }\n",
       "\n",
       "    .dataframe tbody tr th {\n",
       "        vertical-align: top;\n",
       "    }\n",
       "\n",
       "    .dataframe thead th {\n",
       "        text-align: right;\n",
       "    }\n",
       "</style>\n",
       "<table border=\"1\" class=\"dataframe\">\n",
       "  <thead>\n",
       "    <tr style=\"text-align: right;\">\n",
       "      <th></th>\n",
       "      <th>customer</th>\n",
       "      <th>state</th>\n",
       "      <th>gender</th>\n",
       "      <th>education</th>\n",
       "      <th>customer_lifetime_value</th>\n",
       "      <th>income</th>\n",
       "      <th>monthly_premium_auto</th>\n",
       "      <th>number_of_open_complaints</th>\n",
       "      <th>total_claim_amount</th>\n",
       "      <th>policy_type</th>\n",
       "      <th>vehicle_class</th>\n",
       "    </tr>\n",
       "  </thead>\n",
       "  <tbody>\n",
       "    <tr>\n",
       "      <th>0</th>\n",
       "      <td>GS98873</td>\n",
       "      <td>Arizona</td>\n",
       "      <td>F</td>\n",
       "      <td>Bachelor</td>\n",
       "      <td>323912.47%</td>\n",
       "      <td>16061</td>\n",
       "      <td>88</td>\n",
       "      <td>1/0/00</td>\n",
       "      <td>633.6</td>\n",
       "      <td>Personal Auto</td>\n",
       "      <td>Four-Door Car</td>\n",
       "    </tr>\n",
       "  </tbody>\n",
       "</table>\n",
       "</div>"
      ],
      "text/plain": [
       "  customer    state gender education customer_lifetime_value  income  \\\n",
       "0  GS98873  Arizona      F  Bachelor              323912.47%   16061   \n",
       "\n",
       "   monthly_premium_auto number_of_open_complaints  total_claim_amount  \\\n",
       "0                    88                    1/0/00               633.6   \n",
       "\n",
       "     policy_type  vehicle_class  \n",
       "0  Personal Auto  Four-Door Car  "
      ]
     },
     "execution_count": 9,
     "metadata": {},
     "output_type": "execute_result"
    }
   ],
   "source": [
    "insurance_2.columns = insurance_2.columns.str.replace(\" \", \"_\").str.lower()\n",
    "insurance_2 = insurance_2.rename(columns = {\"st\" : \"state\"})\n",
    "insurance_2.head(1)"
   ]
  },
  {
   "cell_type": "code",
   "execution_count": 10,
   "id": "9a59062b-e598-4738-92e6-ce4e91cad0c7",
   "metadata": {},
   "outputs": [
    {
     "data": {
      "application/vnd.microsoft.datawrangler.viewer.v0+json": {
       "columns": [
        {
         "name": "index",
         "rawType": "int64",
         "type": "integer"
        },
        {
         "name": "customer",
         "rawType": "object",
         "type": "string"
        },
        {
         "name": "state",
         "rawType": "object",
         "type": "string"
        },
        {
         "name": "customer_lifetime_value",
         "rawType": "float64",
         "type": "float"
        },
        {
         "name": "education",
         "rawType": "object",
         "type": "string"
        },
        {
         "name": "gender",
         "rawType": "object",
         "type": "string"
        },
        {
         "name": "income",
         "rawType": "int64",
         "type": "integer"
        },
        {
         "name": "monthly_premium_auto",
         "rawType": "int64",
         "type": "integer"
        },
        {
         "name": "number_of_open_complaints",
         "rawType": "int64",
         "type": "integer"
        },
        {
         "name": "policy_type",
         "rawType": "object",
         "type": "string"
        },
        {
         "name": "total_claim_amount",
         "rawType": "float64",
         "type": "float"
        },
        {
         "name": "vehicle_class",
         "rawType": "object",
         "type": "string"
        }
       ],
       "conversionMethod": "pd.DataFrame",
       "ref": "a5d67d93-6363-4078-8759-a0b3a0e2cdff",
       "rows": [
        [
         "0",
         "SA25987",
         "Washington",
         "3479.137523",
         "High School or Below",
         "M",
         "0",
         "104",
         "0",
         "Personal Auto",
         "499.2",
         "Two-Door Car"
        ]
       ],
       "shape": {
        "columns": 11,
        "rows": 1
       }
      },
      "text/html": [
       "<div>\n",
       "<style scoped>\n",
       "    .dataframe tbody tr th:only-of-type {\n",
       "        vertical-align: middle;\n",
       "    }\n",
       "\n",
       "    .dataframe tbody tr th {\n",
       "        vertical-align: top;\n",
       "    }\n",
       "\n",
       "    .dataframe thead th {\n",
       "        text-align: right;\n",
       "    }\n",
       "</style>\n",
       "<table border=\"1\" class=\"dataframe\">\n",
       "  <thead>\n",
       "    <tr style=\"text-align: right;\">\n",
       "      <th></th>\n",
       "      <th>customer</th>\n",
       "      <th>state</th>\n",
       "      <th>customer_lifetime_value</th>\n",
       "      <th>education</th>\n",
       "      <th>gender</th>\n",
       "      <th>income</th>\n",
       "      <th>monthly_premium_auto</th>\n",
       "      <th>number_of_open_complaints</th>\n",
       "      <th>policy_type</th>\n",
       "      <th>total_claim_amount</th>\n",
       "      <th>vehicle_class</th>\n",
       "    </tr>\n",
       "  </thead>\n",
       "  <tbody>\n",
       "    <tr>\n",
       "      <th>0</th>\n",
       "      <td>SA25987</td>\n",
       "      <td>Washington</td>\n",
       "      <td>3479.137523</td>\n",
       "      <td>High School or Below</td>\n",
       "      <td>M</td>\n",
       "      <td>0</td>\n",
       "      <td>104</td>\n",
       "      <td>0</td>\n",
       "      <td>Personal Auto</td>\n",
       "      <td>499.2</td>\n",
       "      <td>Two-Door Car</td>\n",
       "    </tr>\n",
       "  </tbody>\n",
       "</table>\n",
       "</div>"
      ],
      "text/plain": [
       "  customer       state  customer_lifetime_value             education gender  \\\n",
       "0  SA25987  Washington              3479.137523  High School or Below      M   \n",
       "\n",
       "   income  monthly_premium_auto  number_of_open_complaints    policy_type  \\\n",
       "0       0                   104                          0  Personal Auto   \n",
       "\n",
       "   total_claim_amount vehicle_class  \n",
       "0               499.2  Two-Door Car  "
      ]
     },
     "execution_count": 10,
     "metadata": {},
     "output_type": "execute_result"
    }
   ],
   "source": [
    "insurance_3.columns = insurance_3.columns.str.replace(\" \",\"_\").str.lower()\n",
    "insurance_3.head(1)"
   ]
  },
  {
   "cell_type": "code",
   "execution_count": 11,
   "id": "d205b875-bde0-4a84-8ddd-3f305a07ac96",
   "metadata": {},
   "outputs": [
    {
     "data": {
      "text/plain": [
       "(12074, 11)"
      ]
     },
     "execution_count": 11,
     "metadata": {},
     "output_type": "execute_result"
    }
   ],
   "source": [
    "# 这三个表的名字全部相同，只是在表中的顺序不同。这种情况可以\n",
    "# 1）✅ Solution: Explicitly Reorder Columns Before Concatenation\n",
    "# 2 🚀 Alternative: Let Pandas Handle It Automatically，This works only if all DataFrames have the exact same column names.\n",
    "insurance = pd.concat([insurance_1, insurance_2, insurance_3], ignore_index=True)\n",
    "insurance.shape"
   ]
  },
  {
   "cell_type": "code",
   "execution_count": 12,
   "id": "eb95eca6-97f2-4078-b1be-000d6beb5074",
   "metadata": {},
   "outputs": [
    {
     "data": {
      "text/plain": [
       "array([False, False, False, False, False, False, False, False, False,\n",
       "       False, False])"
      ]
     },
     "execution_count": 12,
     "metadata": {},
     "output_type": "execute_result"
    }
   ],
   "source": [
    "# concat 好了之后再查一下还有没有重复的列名了。\n",
    "insurance.columns.duplicated()"
   ]
  },
  {
   "cell_type": "code",
   "execution_count": 13,
   "id": "4c93f082-412d-4fc4-9279-f781922e9787",
   "metadata": {},
   "outputs": [],
   "source": [
    "# 检查有无列的内容是否完全重复的。\n",
    "# 上一步的检查已经包含了这一步。见某天的chatgpt。\n",
    "# insurance.T.duplicated()"
   ]
  },
  {
   "cell_type": "code",
   "execution_count": 14,
   "id": "ad3701c7-88b3-4278-ae3f-11283cebad68",
   "metadata": {},
   "outputs": [
    {
     "data": {
      "text/plain": [
       "2939"
      ]
     },
     "execution_count": 14,
     "metadata": {},
     "output_type": "execute_result"
    }
   ],
   "source": [
    "# 查看有没有重复的行。\n",
    "insurance.duplicated().sum()"
   ]
  },
  {
   "cell_type": "code",
   "execution_count": 15,
   "id": "a0905779-cfd2-4d13-a3f4-844f77f1ae32",
   "metadata": {},
   "outputs": [
    {
     "data": {
      "text/plain": [
       "(9135, 11)"
      ]
     },
     "execution_count": 15,
     "metadata": {},
     "output_type": "execute_result"
    }
   ],
   "source": [
    "# 删除重复的行,再检查shape。\n",
    "insurance.drop_duplicates(inplace = True)\n",
    "insurance.shape"
   ]
  },
  {
   "cell_type": "code",
   "execution_count": 16,
   "id": "9aa9d8fe-dd1a-45ab-b9c2-1460226aa5ca",
   "metadata": {},
   "outputs": [
    {
     "data": {
      "text/plain": [
       "customer                      object\n",
       "state                         object\n",
       "gender                        object\n",
       "education                     object\n",
       "customer_lifetime_value       object\n",
       "income                       float64\n",
       "monthly_premium_auto         float64\n",
       "number_of_open_complaints     object\n",
       "policy_type                   object\n",
       "vehicle_class                 object\n",
       "total_claim_amount           float64\n",
       "dtype: object"
      ]
     },
     "execution_count": 16,
     "metadata": {},
     "output_type": "execute_result"
    }
   ],
   "source": [
    "insurance.dtypes\n",
    "# 📌 If a Column is object Type, Does It Mean It's a String?\n",
    "# 🔹 Not necessarily! In Pandas, a column with dtype=object can contain strings, but it can also contain other types like numbers, lists, dictionaries, or even mixed data types.\n",
    "# 🔹Check the actual types inside the column: \n",
    "#  print(df[\"column\"].apply(type))"
   ]
  },
  {
   "cell_type": "code",
   "execution_count": 17,
   "id": "f5e8b9c2-d9e7-42bd-a718-2538d5e42149",
   "metadata": {},
   "outputs": [
    {
     "name": "stdout",
     "output_type": "stream",
     "text": [
      "[<class 'str'> <class 'float'>]\n",
      "[<class 'str'> <class 'float'>]\n",
      "[<class 'float'> <class 'str'>]\n",
      "[<class 'str'> <class 'float'>]\n"
     ]
    }
   ],
   "source": [
    "# since Object type can contain mixed data types, i want to check in detail what each coulmn has. how to simplify the process below?\n",
    "print(insurance[\"customer\"].apply(type).unique())\n",
    "print(insurance[\"state\"].apply(type).unique())\n",
    "print(insurance[\"gender\"].apply(type).unique())\n",
    "print(insurance[\"education\"].apply(type).unique())\n",
    "# 可以看出有str和float（probably NaN)"
   ]
  },
  {
   "cell_type": "code",
   "execution_count": 18,
   "id": "a31f6dae-f36e-4dff-8ffe-f638c10469dc",
   "metadata": {},
   "outputs": [
    {
     "data": {
      "text/plain": [
       "customer                       1\n",
       "state                          1\n",
       "gender                       123\n",
       "education                      1\n",
       "customer_lifetime_value        8\n",
       "income                         1\n",
       "monthly_premium_auto           1\n",
       "number_of_open_complaints      1\n",
       "policy_type                    1\n",
       "vehicle_class                  1\n",
       "total_claim_amount             1\n",
       "dtype: int64"
      ]
     },
     "execution_count": 18,
     "metadata": {},
     "output_type": "execute_result"
    }
   ],
   "source": [
    "# 查看每一列下有多少 NaN。\n",
    "insurance.isna().sum()"
   ]
  },
  {
   "cell_type": "code",
   "execution_count": 19,
   "id": "b049219a-f0cb-45a7-8ea9-574ed5a61519",
   "metadata": {},
   "outputs": [],
   "source": [
    "# replace NaNs in each column.还要再研究一下。\n",
    "# for column in list(insurance.columns):\n",
    "#     insurance[column].fillna(\"no entry\",inplace = True)\n",
    "#     print(insurance[column].isna().sum())\n",
    "#     print(insurance[column].apply(type).unique())"
   ]
  },
  {
   "cell_type": "code",
   "execution_count": 20,
   "id": "0d648637-39f6-43a6-a8b6-573bb4016523",
   "metadata": {},
   "outputs": [],
   "source": [
    "# # replace NaNs in all the columns where dtype is object, so these can be filled with a string.\n",
    "# # customer column:\n",
    "# insurance[\"customer\"] = insurance[\"customer\"].fillna(\"no entry\")\n",
    "# print(insurance[\"customer\"].isna().sum())\n",
    "\n",
    "# # state column:\n",
    "# insurance[\"state\"] = insurance[\"state\"].fillna(\"no entry\")\n",
    "# print(insurance[\"state\"].isna().sum())\n",
    "\n",
    "# # gender column:\n",
    "# insurance[\"gender\"] = insurance[\"gender\"].fillna(\"no entry\")\n",
    "# print(insurance[\"gender\"].isna().sum())\n",
    "\n",
    "# # education\n",
    "# insurance[\"education\"] = insurance[\"education\"].fillna(\"no entry\")\n",
    "# print(insurance[\"education\"].isna().sum())"
   ]
  },
  {
   "cell_type": "code",
   "execution_count": 21,
   "id": "596809a6-3bdb-446c-97e2-37cca6dd0fb1",
   "metadata": {},
   "outputs": [],
   "source": [
    "# customer column: 不是categorical。只需要replace NaN\n",
    "insurance[\"customer\"] = insurance[\"customer\"].fillna(\"no entry\")"
   ]
  },
  {
   "cell_type": "code",
   "execution_count": 22,
   "id": "9ab6ebf6-f04b-484e-b828-84ff15cdfe84",
   "metadata": {},
   "outputs": [
    {
     "name": "stdout",
     "output_type": "stream",
     "text": [
      "['Washington' 'Arizona' 'Nevada' 'California' 'Oregon' 'Cali' 'AZ' 'WA'\n",
      " nan]\n",
      "['Washington' 'Arizona' 'Nevada' 'California' 'Oregon' nan]\n",
      "0\n"
     ]
    }
   ],
   "source": [
    "# state column: 是categorical，需要查看是否有不恰当的值。如typo。\n",
    "print(insurance[\"state\"].unique())\n",
    "# 发现需要更改\n",
    "state_mapping = {\"AZ\":\"Arizona\",\"Cali\":\"California\",\"WA\":\"Washington\"} #create a new dictionary to save state mapping.\n",
    "insurance[\"state\"] = insurance[\"state\"].replace(state_mapping)\n",
    "print(insurance.state.unique())\n",
    "insurance[\"state\"] = insurance[\"state\"].fillna(\"no entry\")\n",
    "print(insurance[\"state\"].isna().sum())"
   ]
  },
  {
   "cell_type": "code",
   "execution_count": 23,
   "id": "b4c5ab7e-19cb-4984-bf18-8acc9757cdba",
   "metadata": {},
   "outputs": [
    {
     "data": {
      "text/plain": [
       "0"
      ]
     },
     "execution_count": 23,
     "metadata": {},
     "output_type": "execute_result"
    }
   ],
   "source": [
    "# customer_lifetime_value column\n",
    "# dtype 一会就报错到底几个意思？\n",
    "insurance[\"customer_lifetime_value\"] = insurance[\"customer_lifetime_value\"].str.replace(\"%\",\"\").astype(float).round(2)\n",
    "insurance[\"customer_lifetime_value\"]\n",
    "\n",
    "insurance[\"customer_lifetime_value\"] = insurance[\"customer_lifetime_value\"].fillna(insurance[\"customer_lifetime_value\"].mean())\n",
    "insurance[\"customer_lifetime_value\"].isna().sum()\n"
   ]
  },
  {
   "cell_type": "code",
   "execution_count": 24,
   "id": "ffa6f459-4f55-4930-9bb5-e71df46ad290",
   "metadata": {},
   "outputs": [
    {
     "data": {
      "text/plain": [
       "array(['0', '2', '1', '3', '5', '4', nan], dtype=object)"
      ]
     },
     "execution_count": 24,
     "metadata": {},
     "output_type": "execute_result"
    }
   ],
   "source": [
    "insurance[\"number_of_open_complaints\"] = insurance[\"number_of_open_complaints\"].astype(str).str.split(\"/\").str[1]\n",
    "insurance[\"number_of_open_complaints\"].unique()"
   ]
  },
  {
   "cell_type": "code",
   "execution_count": 25,
   "id": "6ac9aaf8-fa1c-4a77-89ad-ff494bdde002",
   "metadata": {},
   "outputs": [
    {
     "data": {
      "text/plain": [
       "'insurance[\"customer_lifetime_value\"] = (\\n    insurance[\"customer_lifetime_value\"]\\n    .str.replace(\\'%\\', \\'\\', regex=False)   # 去掉百分号\\n    .astype(float)                       # 转换为浮点数\\n    .round(2)                            # 保留两位小数\\n)\\n'"
      ]
     },
     "execution_count": 25,
     "metadata": {},
     "output_type": "execute_result"
    }
   ],
   "source": [
    "# chatgpt:\n",
    "'''insurance[\"customer_lifetime_value\"] = (\n",
    "    insurance[\"customer_lifetime_value\"]\n",
    "    .str.replace('%', '', regex=False)   # 去掉百分号\n",
    "    .astype(float)                       # 转换为浮点数\n",
    "    .round(2)                            # 保留两位小数\n",
    ")\n",
    "'''"
   ]
  },
  {
   "cell_type": "code",
   "execution_count": 26,
   "id": "abb3468b-d3c6-41ba-aff8-e49207519538",
   "metadata": {},
   "outputs": [
    {
     "data": {
      "text/plain": [
       "1"
      ]
     },
     "execution_count": 26,
     "metadata": {},
     "output_type": "execute_result"
    }
   ],
   "source": [
    "# income column: fillna with mode\n",
    "insurance[\"income\"].fillna(insurance[\"income\"].mode())\n",
    "insurance[\"income\"].isna().sum()"
   ]
  },
  {
   "cell_type": "code",
   "execution_count": 27,
   "id": "0f8cbe6a-3d3b-46e8-9aaa-1d7806c711ae",
   "metadata": {},
   "outputs": [
    {
     "data": {
      "text/plain": [
       "1"
      ]
     },
     "execution_count": 27,
     "metadata": {},
     "output_type": "execute_result"
    }
   ],
   "source": [
    "# vehicle_class column\n",
    "\n",
    "vehicle_class_map = {\"Luxury SUV\":\"Luxury\", \"Sports Car\":\"Luxury\",\"SUV\" :\"Luxury\",\"Luxury Car\": \"Luxury\"}\n",
    "insurance[\"vehicle_class\"] = insurance[\"vehicle_class\"].replace(vehicle_class_map)\n",
    "insurance.vehicle_class.unique()\n",
    "insurance[\"vehicle_class\"].fillna(\"no entry\")\n",
    "insurance[\"vehicle_class\"].isna().sum()"
   ]
  },
  {
   "cell_type": "markdown",
   "id": "31b8a9e7-7db9-4604-991b-ef6771603e57",
   "metadata": {
    "id": "31b8a9e7-7db9-4604-991b-ef6771603e57"
   },
   "source": [
    "# Challenge 2: Structuring Data"
   ]
  },
  {
   "cell_type": "markdown",
   "id": "a877fd6d-7a0c-46d2-9657-f25036e4ca4b",
   "metadata": {
    "id": "a877fd6d-7a0c-46d2-9657-f25036e4ca4b"
   },
   "source": [
    "In this challenge, we will continue to work with customer data from an insurance company, but we will use a dataset with more columns, called marketing_customer_analysis.csv, which can be found at the following link:\n",
    "\n",
    "https://raw.githubusercontent.com/data-bootcamp-v4/data/main/marketing_customer_analysis_clean.csv\n",
    "\n",
    "This dataset contains information such as customer demographics, policy details, vehicle information, and the customer's response to the last marketing campaign. Our goal is to explore and analyze this data by performing data cleaning, formatting, and structuring."
   ]
  },
  {
   "cell_type": "code",
   "execution_count": 28,
   "id": "aa10d9b0-1c27-4d3f-a8e4-db6ab73bfd26",
   "metadata": {
    "id": "aa10d9b0-1c27-4d3f-a8e4-db6ab73bfd26"
   },
   "outputs": [
    {
     "data": {
      "application/vnd.microsoft.datawrangler.viewer.v0+json": {
       "columns": [
        {
         "name": "index",
         "rawType": "int64",
         "type": "integer"
        },
        {
         "name": "unnamed:_0",
         "rawType": "int64",
         "type": "integer"
        },
        {
         "name": "customer",
         "rawType": "object",
         "type": "string"
        },
        {
         "name": "state",
         "rawType": "object",
         "type": "string"
        },
        {
         "name": "customer_lifetime_value",
         "rawType": "float64",
         "type": "float"
        },
        {
         "name": "response",
         "rawType": "object",
         "type": "string"
        },
        {
         "name": "coverage",
         "rawType": "object",
         "type": "string"
        },
        {
         "name": "education",
         "rawType": "object",
         "type": "string"
        },
        {
         "name": "effective_to_date",
         "rawType": "object",
         "type": "string"
        },
        {
         "name": "employmentstatus",
         "rawType": "object",
         "type": "string"
        },
        {
         "name": "gender",
         "rawType": "object",
         "type": "string"
        },
        {
         "name": "income",
         "rawType": "int64",
         "type": "integer"
        },
        {
         "name": "location_code",
         "rawType": "object",
         "type": "string"
        },
        {
         "name": "marital_status",
         "rawType": "object",
         "type": "string"
        },
        {
         "name": "monthly_premium_auto",
         "rawType": "int64",
         "type": "integer"
        },
        {
         "name": "months_since_last_claim",
         "rawType": "float64",
         "type": "float"
        },
        {
         "name": "months_since_policy_inception",
         "rawType": "int64",
         "type": "integer"
        },
        {
         "name": "number_of_open_complaints",
         "rawType": "float64",
         "type": "float"
        },
        {
         "name": "number_of_policies",
         "rawType": "int64",
         "type": "integer"
        },
        {
         "name": "policy_type",
         "rawType": "object",
         "type": "string"
        },
        {
         "name": "policy",
         "rawType": "object",
         "type": "string"
        },
        {
         "name": "renew_offer_type",
         "rawType": "object",
         "type": "string"
        },
        {
         "name": "sales_channel",
         "rawType": "object",
         "type": "string"
        },
        {
         "name": "total_claim_amount",
         "rawType": "float64",
         "type": "float"
        },
        {
         "name": "vehicle_class",
         "rawType": "object",
         "type": "string"
        },
        {
         "name": "vehicle_size",
         "rawType": "object",
         "type": "string"
        },
        {
         "name": "vehicle_type",
         "rawType": "object",
         "type": "string"
        },
        {
         "name": "month",
         "rawType": "int64",
         "type": "integer"
        }
       ],
       "conversionMethod": "pd.DataFrame",
       "ref": "51009f00-e579-4586-b36e-1672a64c5196",
       "rows": [
        [
         "0",
         "0",
         "DK49336",
         "Arizona",
         "4809.21696",
         "No",
         "Basic",
         "College",
         "2011-02-18",
         "Employed",
         "M",
         "48029",
         "Suburban",
         "Married",
         "61",
         "7.0",
         "52",
         "0.0",
         "9",
         "Corporate Auto",
         "Corporate L3",
         "Offer3",
         "Agent",
         "292.8",
         "Four-Door Car",
         "Medsize",
         "A",
         "2"
        ],
        [
         "1",
         "1",
         "KX64629",
         "California",
         "2228.525238",
         "No",
         "Basic",
         "College",
         "2011-01-18",
         "Unemployed",
         "F",
         "0",
         "Suburban",
         "Single",
         "64",
         "3.0",
         "26",
         "0.0",
         "1",
         "Personal Auto",
         "Personal L3",
         "Offer4",
         "Call Center",
         "744.924331",
         "Four-Door Car",
         "Medsize",
         "A",
         "1"
        ],
        [
         "2",
         "2",
         "LZ68649",
         "Washington",
         "14947.9173",
         "No",
         "Basic",
         "Bachelor",
         "2011-02-10",
         "Employed",
         "M",
         "22139",
         "Suburban",
         "Single",
         "100",
         "34.0",
         "31",
         "0.0",
         "2",
         "Personal Auto",
         "Personal L3",
         "Offer3",
         "Call Center",
         "480.0",
         "SUV",
         "Medsize",
         "A",
         "2"
        ],
        [
         "3",
         "3",
         "XL78013",
         "Oregon",
         "22332.43946",
         "Yes",
         "Extended",
         "College",
         "2011-01-11",
         "Employed",
         "M",
         "49078",
         "Suburban",
         "Single",
         "97",
         "10.0",
         "3",
         "0.0",
         "2",
         "Corporate Auto",
         "Corporate L3",
         "Offer2",
         "Branch",
         "484.013411",
         "Four-Door Car",
         "Medsize",
         "A",
         "1"
        ],
        [
         "4",
         "4",
         "QA50777",
         "Oregon",
         "9025.067525",
         "No",
         "Premium",
         "Bachelor",
         "2011-01-17",
         "Medical Leave",
         "F",
         "23675",
         "Suburban",
         "Married",
         "117",
         "15.149070740488469",
         "31",
         "0.384256105867471",
         "7",
         "Personal Auto",
         "Personal L2",
         "Offer1",
         "Branch",
         "707.925645",
         "Four-Door Car",
         "Medsize",
         "A",
         "1"
        ]
       ],
       "shape": {
        "columns": 27,
        "rows": 5
       }
      },
      "text/html": [
       "<div>\n",
       "<style scoped>\n",
       "    .dataframe tbody tr th:only-of-type {\n",
       "        vertical-align: middle;\n",
       "    }\n",
       "\n",
       "    .dataframe tbody tr th {\n",
       "        vertical-align: top;\n",
       "    }\n",
       "\n",
       "    .dataframe thead th {\n",
       "        text-align: right;\n",
       "    }\n",
       "</style>\n",
       "<table border=\"1\" class=\"dataframe\">\n",
       "  <thead>\n",
       "    <tr style=\"text-align: right;\">\n",
       "      <th></th>\n",
       "      <th>unnamed:_0</th>\n",
       "      <th>customer</th>\n",
       "      <th>state</th>\n",
       "      <th>customer_lifetime_value</th>\n",
       "      <th>response</th>\n",
       "      <th>coverage</th>\n",
       "      <th>education</th>\n",
       "      <th>effective_to_date</th>\n",
       "      <th>employmentstatus</th>\n",
       "      <th>gender</th>\n",
       "      <th>...</th>\n",
       "      <th>number_of_policies</th>\n",
       "      <th>policy_type</th>\n",
       "      <th>policy</th>\n",
       "      <th>renew_offer_type</th>\n",
       "      <th>sales_channel</th>\n",
       "      <th>total_claim_amount</th>\n",
       "      <th>vehicle_class</th>\n",
       "      <th>vehicle_size</th>\n",
       "      <th>vehicle_type</th>\n",
       "      <th>month</th>\n",
       "    </tr>\n",
       "  </thead>\n",
       "  <tbody>\n",
       "    <tr>\n",
       "      <th>0</th>\n",
       "      <td>0</td>\n",
       "      <td>DK49336</td>\n",
       "      <td>Arizona</td>\n",
       "      <td>4809.216960</td>\n",
       "      <td>No</td>\n",
       "      <td>Basic</td>\n",
       "      <td>College</td>\n",
       "      <td>2011-02-18</td>\n",
       "      <td>Employed</td>\n",
       "      <td>M</td>\n",
       "      <td>...</td>\n",
       "      <td>9</td>\n",
       "      <td>Corporate Auto</td>\n",
       "      <td>Corporate L3</td>\n",
       "      <td>Offer3</td>\n",
       "      <td>Agent</td>\n",
       "      <td>292.800000</td>\n",
       "      <td>Four-Door Car</td>\n",
       "      <td>Medsize</td>\n",
       "      <td>A</td>\n",
       "      <td>2</td>\n",
       "    </tr>\n",
       "    <tr>\n",
       "      <th>1</th>\n",
       "      <td>1</td>\n",
       "      <td>KX64629</td>\n",
       "      <td>California</td>\n",
       "      <td>2228.525238</td>\n",
       "      <td>No</td>\n",
       "      <td>Basic</td>\n",
       "      <td>College</td>\n",
       "      <td>2011-01-18</td>\n",
       "      <td>Unemployed</td>\n",
       "      <td>F</td>\n",
       "      <td>...</td>\n",
       "      <td>1</td>\n",
       "      <td>Personal Auto</td>\n",
       "      <td>Personal L3</td>\n",
       "      <td>Offer4</td>\n",
       "      <td>Call Center</td>\n",
       "      <td>744.924331</td>\n",
       "      <td>Four-Door Car</td>\n",
       "      <td>Medsize</td>\n",
       "      <td>A</td>\n",
       "      <td>1</td>\n",
       "    </tr>\n",
       "    <tr>\n",
       "      <th>2</th>\n",
       "      <td>2</td>\n",
       "      <td>LZ68649</td>\n",
       "      <td>Washington</td>\n",
       "      <td>14947.917300</td>\n",
       "      <td>No</td>\n",
       "      <td>Basic</td>\n",
       "      <td>Bachelor</td>\n",
       "      <td>2011-02-10</td>\n",
       "      <td>Employed</td>\n",
       "      <td>M</td>\n",
       "      <td>...</td>\n",
       "      <td>2</td>\n",
       "      <td>Personal Auto</td>\n",
       "      <td>Personal L3</td>\n",
       "      <td>Offer3</td>\n",
       "      <td>Call Center</td>\n",
       "      <td>480.000000</td>\n",
       "      <td>SUV</td>\n",
       "      <td>Medsize</td>\n",
       "      <td>A</td>\n",
       "      <td>2</td>\n",
       "    </tr>\n",
       "    <tr>\n",
       "      <th>3</th>\n",
       "      <td>3</td>\n",
       "      <td>XL78013</td>\n",
       "      <td>Oregon</td>\n",
       "      <td>22332.439460</td>\n",
       "      <td>Yes</td>\n",
       "      <td>Extended</td>\n",
       "      <td>College</td>\n",
       "      <td>2011-01-11</td>\n",
       "      <td>Employed</td>\n",
       "      <td>M</td>\n",
       "      <td>...</td>\n",
       "      <td>2</td>\n",
       "      <td>Corporate Auto</td>\n",
       "      <td>Corporate L3</td>\n",
       "      <td>Offer2</td>\n",
       "      <td>Branch</td>\n",
       "      <td>484.013411</td>\n",
       "      <td>Four-Door Car</td>\n",
       "      <td>Medsize</td>\n",
       "      <td>A</td>\n",
       "      <td>1</td>\n",
       "    </tr>\n",
       "    <tr>\n",
       "      <th>4</th>\n",
       "      <td>4</td>\n",
       "      <td>QA50777</td>\n",
       "      <td>Oregon</td>\n",
       "      <td>9025.067525</td>\n",
       "      <td>No</td>\n",
       "      <td>Premium</td>\n",
       "      <td>Bachelor</td>\n",
       "      <td>2011-01-17</td>\n",
       "      <td>Medical Leave</td>\n",
       "      <td>F</td>\n",
       "      <td>...</td>\n",
       "      <td>7</td>\n",
       "      <td>Personal Auto</td>\n",
       "      <td>Personal L2</td>\n",
       "      <td>Offer1</td>\n",
       "      <td>Branch</td>\n",
       "      <td>707.925645</td>\n",
       "      <td>Four-Door Car</td>\n",
       "      <td>Medsize</td>\n",
       "      <td>A</td>\n",
       "      <td>1</td>\n",
       "    </tr>\n",
       "  </tbody>\n",
       "</table>\n",
       "<p>5 rows × 27 columns</p>\n",
       "</div>"
      ],
      "text/plain": [
       "   unnamed:_0 customer       state  customer_lifetime_value response  \\\n",
       "0           0  DK49336     Arizona              4809.216960       No   \n",
       "1           1  KX64629  California              2228.525238       No   \n",
       "2           2  LZ68649  Washington             14947.917300       No   \n",
       "3           3  XL78013      Oregon             22332.439460      Yes   \n",
       "4           4  QA50777      Oregon              9025.067525       No   \n",
       "\n",
       "   coverage education effective_to_date employmentstatus gender  ...  \\\n",
       "0     Basic   College        2011-02-18         Employed      M  ...   \n",
       "1     Basic   College        2011-01-18       Unemployed      F  ...   \n",
       "2     Basic  Bachelor        2011-02-10         Employed      M  ...   \n",
       "3  Extended   College        2011-01-11         Employed      M  ...   \n",
       "4   Premium  Bachelor        2011-01-17    Medical Leave      F  ...   \n",
       "\n",
       "   number_of_policies     policy_type        policy  renew_offer_type  \\\n",
       "0                   9  Corporate Auto  Corporate L3            Offer3   \n",
       "1                   1   Personal Auto   Personal L3            Offer4   \n",
       "2                   2   Personal Auto   Personal L3            Offer3   \n",
       "3                   2  Corporate Auto  Corporate L3            Offer2   \n",
       "4                   7   Personal Auto   Personal L2            Offer1   \n",
       "\n",
       "   sales_channel  total_claim_amount  vehicle_class  vehicle_size  \\\n",
       "0          Agent          292.800000  Four-Door Car       Medsize   \n",
       "1    Call Center          744.924331  Four-Door Car       Medsize   \n",
       "2    Call Center          480.000000            SUV       Medsize   \n",
       "3         Branch          484.013411  Four-Door Car       Medsize   \n",
       "4         Branch          707.925645  Four-Door Car       Medsize   \n",
       "\n",
       "  vehicle_type month  \n",
       "0            A     2  \n",
       "1            A     1  \n",
       "2            A     2  \n",
       "3            A     1  \n",
       "4            A     1  \n",
       "\n",
       "[5 rows x 27 columns]"
      ]
     },
     "execution_count": 28,
     "metadata": {},
     "output_type": "execute_result"
    }
   ],
   "source": [
    "import pandas as pd\n",
    "url = 'https://raw.githubusercontent.com/data-bootcamp-v4/data/main/marketing_customer_analysis_clean.csv'\n",
    "marketing = pd.read_csv(url)\n",
    "marketing.shape\n",
    "marketing.head()"
   ]
  },
  {
   "cell_type": "markdown",
   "id": "df35fd0d-513e-4e77-867e-429da10a9cc7",
   "metadata": {
    "id": "df35fd0d-513e-4e77-867e-429da10a9cc7"
   },
   "source": [
    "1. You work at the marketing department and you want to know which sales channel brought the most sales in terms of total revenue. Using pivot, create a summary table showing the total revenue for each sales channel (branch, call center, web, and mail).\n",
    "Round the total revenue to 2 decimal points.  Analyze the resulting table to draw insights."
   ]
  },
  {
   "cell_type": "code",
   "execution_count": 29,
   "id": "6cc82f42-bfae-4aa3-bf5f-bfb52fcf3a70",
   "metadata": {},
   "outputs": [
    {
     "data": {
      "text/plain": [
       "array(['Agent', 'Call Center', 'Branch', 'Web'], dtype=object)"
      ]
     },
     "execution_count": 29,
     "metadata": {},
     "output_type": "execute_result"
    }
   ],
   "source": [
    "marketing[\"sales_channel\"].unique()"
   ]
  },
  {
   "cell_type": "code",
   "execution_count": 30,
   "id": "4a21e73d-6977-4112-9105-47717c8b5e01",
   "metadata": {},
   "outputs": [
    {
     "data": {
      "application/vnd.microsoft.datawrangler.viewer.v0+json": {
       "columns": [
        {
         "name": "sales_channel",
         "rawType": "object",
         "type": "string"
        },
        {
         "name": "customer_lifetime_value",
         "rawType": "float64",
         "type": "float"
        }
       ],
       "conversionMethod": "pd.DataFrame",
       "ref": "68519ec8-d863-469b-9df4-6a5f5dbf629e",
       "rows": [
        [
         "Agent",
         "33057887.85"
        ],
        [
         "Branch",
         "24359201.21"
        ],
        [
         "Call Center",
         "17364288.37"
        ],
        [
         "Web",
         "12697632.9"
        ]
       ],
       "shape": {
        "columns": 1,
        "rows": 4
       }
      },
      "text/html": [
       "<div>\n",
       "<style scoped>\n",
       "    .dataframe tbody tr th:only-of-type {\n",
       "        vertical-align: middle;\n",
       "    }\n",
       "\n",
       "    .dataframe tbody tr th {\n",
       "        vertical-align: top;\n",
       "    }\n",
       "\n",
       "    .dataframe thead th {\n",
       "        text-align: right;\n",
       "    }\n",
       "</style>\n",
       "<table border=\"1\" class=\"dataframe\">\n",
       "  <thead>\n",
       "    <tr style=\"text-align: right;\">\n",
       "      <th></th>\n",
       "      <th>customer_lifetime_value</th>\n",
       "    </tr>\n",
       "    <tr>\n",
       "      <th>sales_channel</th>\n",
       "      <th></th>\n",
       "    </tr>\n",
       "  </thead>\n",
       "  <tbody>\n",
       "    <tr>\n",
       "      <th>Agent</th>\n",
       "      <td>33057887.85</td>\n",
       "    </tr>\n",
       "    <tr>\n",
       "      <th>Branch</th>\n",
       "      <td>24359201.21</td>\n",
       "    </tr>\n",
       "    <tr>\n",
       "      <th>Call Center</th>\n",
       "      <td>17364288.37</td>\n",
       "    </tr>\n",
       "    <tr>\n",
       "      <th>Web</th>\n",
       "      <td>12697632.90</td>\n",
       "    </tr>\n",
       "  </tbody>\n",
       "</table>\n",
       "</div>"
      ],
      "text/plain": [
       "               customer_lifetime_value\n",
       "sales_channel                         \n",
       "Agent                      33057887.85\n",
       "Branch                     24359201.21\n",
       "Call Center                17364288.37\n",
       "Web                        12697632.90"
      ]
     },
     "execution_count": 30,
     "metadata": {},
     "output_type": "execute_result"
    }
   ],
   "source": [
    "pivot_sales_channel = marketing.pivot_table(index='sales_channel',values=\"customer_lifetime_value\", aggfunc='sum').round(2)\n",
    "pivot_sales_channel.head()"
   ]
  },
  {
   "cell_type": "markdown",
   "id": "640993b2-a291-436c-a34d-a551144f8196",
   "metadata": {
    "id": "640993b2-a291-436c-a34d-a551144f8196"
   },
   "source": [
    "2. Create a pivot table that shows the average customer lifetime value per gender and education level. Analyze the resulting table to draw insights."
   ]
  },
  {
   "cell_type": "code",
   "execution_count": 31,
   "id": "ff1d6990-4768-4682-bf3e-5d94e6784694",
   "metadata": {},
   "outputs": [
    {
     "data": {
      "text/plain": [
       "array(['M', 'F'], dtype=object)"
      ]
     },
     "execution_count": 31,
     "metadata": {},
     "output_type": "execute_result"
    }
   ],
   "source": [
    "marketing[\"education\"].unique()\n",
    "marketing[\"gender\"].unique()"
   ]
  },
  {
   "cell_type": "code",
   "execution_count": 32,
   "id": "c4d328c9-9c8b-4d00-9bf5-e1d7525750f2",
   "metadata": {},
   "outputs": [
    {
     "data": {
      "application/vnd.microsoft.datawrangler.viewer.v0+json": {
       "columns": [
        {
         "name": "gender",
         "rawType": "object",
         "type": "string"
        },
        {
         "name": "Bachelor",
         "rawType": "float64",
         "type": "float"
        },
        {
         "name": "College",
         "rawType": "float64",
         "type": "float"
        },
        {
         "name": "Doctor",
         "rawType": "float64",
         "type": "float"
        },
        {
         "name": "High School or Below",
         "rawType": "float64",
         "type": "float"
        },
        {
         "name": "Master",
         "rawType": "float64",
         "type": "float"
        }
       ],
       "conversionMethod": "pd.DataFrame",
       "ref": "6a3f29ce-a00a-4534-bc2f-bae234a3ef8e",
       "rows": [
        [
         "F",
         "7874.27",
         "7748.82",
         "7328.51",
         "8675.22",
         "8157.05"
        ],
        [
         "M",
         "7703.6",
         "8052.46",
         "7415.33",
         "8149.69",
         "8168.83"
        ]
       ],
       "shape": {
        "columns": 5,
        "rows": 2
       }
      },
      "text/html": [
       "<div>\n",
       "<style scoped>\n",
       "    .dataframe tbody tr th:only-of-type {\n",
       "        vertical-align: middle;\n",
       "    }\n",
       "\n",
       "    .dataframe tbody tr th {\n",
       "        vertical-align: top;\n",
       "    }\n",
       "\n",
       "    .dataframe thead th {\n",
       "        text-align: right;\n",
       "    }\n",
       "</style>\n",
       "<table border=\"1\" class=\"dataframe\">\n",
       "  <thead>\n",
       "    <tr style=\"text-align: right;\">\n",
       "      <th>education</th>\n",
       "      <th>Bachelor</th>\n",
       "      <th>College</th>\n",
       "      <th>Doctor</th>\n",
       "      <th>High School or Below</th>\n",
       "      <th>Master</th>\n",
       "    </tr>\n",
       "    <tr>\n",
       "      <th>gender</th>\n",
       "      <th></th>\n",
       "      <th></th>\n",
       "      <th></th>\n",
       "      <th></th>\n",
       "      <th></th>\n",
       "    </tr>\n",
       "  </thead>\n",
       "  <tbody>\n",
       "    <tr>\n",
       "      <th>F</th>\n",
       "      <td>7874.27</td>\n",
       "      <td>7748.82</td>\n",
       "      <td>7328.51</td>\n",
       "      <td>8675.22</td>\n",
       "      <td>8157.05</td>\n",
       "    </tr>\n",
       "    <tr>\n",
       "      <th>M</th>\n",
       "      <td>7703.60</td>\n",
       "      <td>8052.46</td>\n",
       "      <td>7415.33</td>\n",
       "      <td>8149.69</td>\n",
       "      <td>8168.83</td>\n",
       "    </tr>\n",
       "  </tbody>\n",
       "</table>\n",
       "</div>"
      ],
      "text/plain": [
       "education  Bachelor  College   Doctor  High School or Below   Master\n",
       "gender                                                              \n",
       "F           7874.27  7748.82  7328.51               8675.22  8157.05\n",
       "M           7703.60  8052.46  7415.33               8149.69  8168.83"
      ]
     },
     "execution_count": 32,
     "metadata": {},
     "output_type": "execute_result"
    }
   ],
   "source": [
    "pivot_gender_edu = marketing.pivot_table(index = \"gender\", columns = \"education\", values = \"customer_lifetime_value\",aggfunc = \"mean\").round(2)\n",
    "pivot_gender_edu"
   ]
  },
  {
   "cell_type": "markdown",
   "id": "32c7f2e5-3d90-43e5-be33-9781b6069198",
   "metadata": {
    "id": "32c7f2e5-3d90-43e5-be33-9781b6069198"
   },
   "source": [
    "## Bonus\n",
    "\n",
    "You work at the customer service department and you want to know which months had the highest number of complaints by policy type category. Create a summary table showing the number of complaints by policy type and month.\n",
    "Show it in a long format table."
   ]
  },
  {
   "cell_type": "markdown",
   "id": "e3d09a8f-953c-448a-a5f8-2e5a8cca7291",
   "metadata": {
    "id": "e3d09a8f-953c-448a-a5f8-2e5a8cca7291"
   },
   "source": [
    "*In data analysis, a long format table is a way of structuring data in which each observation or measurement is stored in a separate row of the table. The key characteristic of a long format table is that each column represents a single variable, and each row represents a single observation of that variable.*\n",
    "\n",
    "*More information about long and wide format tables here: https://www.statology.org/long-vs-wide-data/*"
   ]
  },
  {
   "cell_type": "code",
   "execution_count": 33,
   "id": "3a069e0b-b400-470e-904d-d17582191be4",
   "metadata": {
    "id": "3a069e0b-b400-470e-904d-d17582191be4"
   },
   "outputs": [],
   "source": [
    "complaint_summary = marketing.pivot_table(\n",
    "    index='month',\n",
    "    columns='policy_type',\n",
    "    values='number_of_open_complaints',\n",
    "    aggfunc='count',\n",
    "    fill_value=0\n",
    ")\n",
    "long_format = complaint_summary.stack().reset_index()"
   ]
  },
  {
   "cell_type": "code",
   "execution_count": 34,
   "id": "6a3e5fff-e518-4ea8-ad64-4bb47dda8b9d",
   "metadata": {},
   "outputs": [
    {
     "data": {
      "application/vnd.microsoft.datawrangler.viewer.v0+json": {
       "columns": [
        {
         "name": "index",
         "rawType": "int64",
         "type": "integer"
        },
        {
         "name": "customer",
         "rawType": "object",
         "type": "string"
        },
        {
         "name": "state",
         "rawType": "object",
         "type": "string"
        },
        {
         "name": "gender",
         "rawType": "object",
         "type": "unknown"
        },
        {
         "name": "education",
         "rawType": "object",
         "type": "string"
        },
        {
         "name": "customer_lifetime_value",
         "rawType": "float64",
         "type": "float"
        },
        {
         "name": "income",
         "rawType": "float64",
         "type": "float"
        },
        {
         "name": "monthly_premium_auto",
         "rawType": "float64",
         "type": "float"
        },
        {
         "name": "number_of_open_complaints",
         "rawType": "object",
         "type": "string"
        },
        {
         "name": "policy_type",
         "rawType": "object",
         "type": "string"
        },
        {
         "name": "vehicle_class",
         "rawType": "object",
         "type": "string"
        },
        {
         "name": "total_claim_amount",
         "rawType": "float64",
         "type": "float"
        }
       ],
       "conversionMethod": "pd.DataFrame",
       "ref": "a174e309-333e-4b5a-a6a9-c592866dbabc",
       "rows": [
        [
         "0",
         "RB50392",
         "Washington",
         null,
         "Master",
         "780264.0244919786",
         "0.0",
         "1000.0",
         "0",
         "Personal Auto",
         "Four-Door Car",
         "2.704934"
        ],
        [
         "1",
         "QZ44356",
         "Arizona",
         "F",
         "Bachelor",
         "697953.59",
         "0.0",
         "94.0",
         "0",
         "Personal Auto",
         "Four-Door Car",
         "1131.464935"
        ],
        [
         "2",
         "AI49188",
         "Nevada",
         "F",
         "Bachelor",
         "1288743.17",
         "48767.0",
         "108.0",
         "0",
         "Personal Auto",
         "Two-Door Car",
         "566.472247"
        ],
        [
         "3",
         "WW63253",
         "California",
         "M",
         "Bachelor",
         "764586.18",
         "0.0",
         "106.0",
         "0",
         "Corporate Auto",
         "Luxury",
         "529.881344"
        ],
        [
         "4",
         "GA49547",
         "Washington",
         "M",
         "High School or Below",
         "536307.65",
         "36357.0",
         "68.0",
         "0",
         "Personal Auto",
         "Four-Door Car",
         "17.269323"
        ]
       ],
       "shape": {
        "columns": 11,
        "rows": 5
       }
      },
      "text/html": [
       "<div>\n",
       "<style scoped>\n",
       "    .dataframe tbody tr th:only-of-type {\n",
       "        vertical-align: middle;\n",
       "    }\n",
       "\n",
       "    .dataframe tbody tr th {\n",
       "        vertical-align: top;\n",
       "    }\n",
       "\n",
       "    .dataframe thead th {\n",
       "        text-align: right;\n",
       "    }\n",
       "</style>\n",
       "<table border=\"1\" class=\"dataframe\">\n",
       "  <thead>\n",
       "    <tr style=\"text-align: right;\">\n",
       "      <th></th>\n",
       "      <th>customer</th>\n",
       "      <th>state</th>\n",
       "      <th>gender</th>\n",
       "      <th>education</th>\n",
       "      <th>customer_lifetime_value</th>\n",
       "      <th>income</th>\n",
       "      <th>monthly_premium_auto</th>\n",
       "      <th>number_of_open_complaints</th>\n",
       "      <th>policy_type</th>\n",
       "      <th>vehicle_class</th>\n",
       "      <th>total_claim_amount</th>\n",
       "    </tr>\n",
       "  </thead>\n",
       "  <tbody>\n",
       "    <tr>\n",
       "      <th>0</th>\n",
       "      <td>RB50392</td>\n",
       "      <td>Washington</td>\n",
       "      <td>NaN</td>\n",
       "      <td>Master</td>\n",
       "      <td>7.802640e+05</td>\n",
       "      <td>0.0</td>\n",
       "      <td>1000.0</td>\n",
       "      <td>0</td>\n",
       "      <td>Personal Auto</td>\n",
       "      <td>Four-Door Car</td>\n",
       "      <td>2.704934</td>\n",
       "    </tr>\n",
       "    <tr>\n",
       "      <th>1</th>\n",
       "      <td>QZ44356</td>\n",
       "      <td>Arizona</td>\n",
       "      <td>F</td>\n",
       "      <td>Bachelor</td>\n",
       "      <td>6.979536e+05</td>\n",
       "      <td>0.0</td>\n",
       "      <td>94.0</td>\n",
       "      <td>0</td>\n",
       "      <td>Personal Auto</td>\n",
       "      <td>Four-Door Car</td>\n",
       "      <td>1131.464935</td>\n",
       "    </tr>\n",
       "    <tr>\n",
       "      <th>2</th>\n",
       "      <td>AI49188</td>\n",
       "      <td>Nevada</td>\n",
       "      <td>F</td>\n",
       "      <td>Bachelor</td>\n",
       "      <td>1.288743e+06</td>\n",
       "      <td>48767.0</td>\n",
       "      <td>108.0</td>\n",
       "      <td>0</td>\n",
       "      <td>Personal Auto</td>\n",
       "      <td>Two-Door Car</td>\n",
       "      <td>566.472247</td>\n",
       "    </tr>\n",
       "    <tr>\n",
       "      <th>3</th>\n",
       "      <td>WW63253</td>\n",
       "      <td>California</td>\n",
       "      <td>M</td>\n",
       "      <td>Bachelor</td>\n",
       "      <td>7.645862e+05</td>\n",
       "      <td>0.0</td>\n",
       "      <td>106.0</td>\n",
       "      <td>0</td>\n",
       "      <td>Corporate Auto</td>\n",
       "      <td>Luxury</td>\n",
       "      <td>529.881344</td>\n",
       "    </tr>\n",
       "    <tr>\n",
       "      <th>4</th>\n",
       "      <td>GA49547</td>\n",
       "      <td>Washington</td>\n",
       "      <td>M</td>\n",
       "      <td>High School or Below</td>\n",
       "      <td>5.363077e+05</td>\n",
       "      <td>36357.0</td>\n",
       "      <td>68.0</td>\n",
       "      <td>0</td>\n",
       "      <td>Personal Auto</td>\n",
       "      <td>Four-Door Car</td>\n",
       "      <td>17.269323</td>\n",
       "    </tr>\n",
       "  </tbody>\n",
       "</table>\n",
       "</div>"
      ],
      "text/plain": [
       "  customer       state gender             education  customer_lifetime_value  \\\n",
       "0  RB50392  Washington    NaN                Master             7.802640e+05   \n",
       "1  QZ44356     Arizona      F              Bachelor             6.979536e+05   \n",
       "2  AI49188      Nevada      F              Bachelor             1.288743e+06   \n",
       "3  WW63253  California      M              Bachelor             7.645862e+05   \n",
       "4  GA49547  Washington      M  High School or Below             5.363077e+05   \n",
       "\n",
       "    income  monthly_premium_auto number_of_open_complaints     policy_type  \\\n",
       "0      0.0                1000.0                         0   Personal Auto   \n",
       "1      0.0                  94.0                         0   Personal Auto   \n",
       "2  48767.0                 108.0                         0   Personal Auto   \n",
       "3      0.0                 106.0                         0  Corporate Auto   \n",
       "4  36357.0                  68.0                         0   Personal Auto   \n",
       "\n",
       "   vehicle_class  total_claim_amount  \n",
       "0  Four-Door Car            2.704934  \n",
       "1  Four-Door Car         1131.464935  \n",
       "2   Two-Door Car          566.472247  \n",
       "3         Luxury          529.881344  \n",
       "4  Four-Door Car           17.269323  "
      ]
     },
     "execution_count": 34,
     "metadata": {},
     "output_type": "execute_result"
    }
   ],
   "source": [
    "insurance.head()"
   ]
  }
 ],
 "metadata": {
  "colab": {
   "provenance": []
  },
  "kernelspec": {
   "display_name": "base",
   "language": "python",
   "name": "python3"
  },
  "language_info": {
   "codemirror_mode": {
    "name": "ipython",
    "version": 3
   },
   "file_extension": ".py",
   "mimetype": "text/x-python",
   "name": "python",
   "nbconvert_exporter": "python",
   "pygments_lexer": "ipython3",
   "version": "3.12.7"
  }
 },
 "nbformat": 4,
 "nbformat_minor": 5
}
